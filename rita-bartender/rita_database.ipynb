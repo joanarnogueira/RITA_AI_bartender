{
 "cells": [
  {
   "cell_type": "code",
   "execution_count": 135,
   "metadata": {},
   "outputs": [],
   "source": [
    "import sqlite3\n",
    "import pandas as pd\n",
    "import numpy as np\n",
    "import datetime"
   ]
  },
  {
   "cell_type": "code",
   "execution_count": 226,
   "metadata": {},
   "outputs": [],
   "source": [
    "# Create a database and open the database.\n",
    "# If the database already exists just opens the database\n",
    "conn = sqlite3.connect('rita_bartender.db')\n",
    "c = conn.cursor()"
   ]
  },
  {
   "cell_type": "code",
   "execution_count": 232,
   "metadata": {},
   "outputs": [],
   "source": [
    "# Create a users table if the table does not exists\n",
    "c.execute('''CREATE TABLE IF NOT EXISTS user(\n",
    "    user_id INTEGER PRIMARY KEY AUTOINCREMENT,\n",
    "    name TEXT,\n",
    "    age INTEGER,\n",
    "    email TEXT)\n",
    "    ''')\n",
    "# commit changes and close database connect\n",
    "conn.commit()\n",
    "#conn.close()"
   ]
  },
  {
   "cell_type": "code",
   "execution_count": 228,
   "metadata": {},
   "outputs": [],
   "source": [
    "c.execute('''CREATE TABLE IF NOT EXISTS ingredients(\n",
    "    ingredient_id INTEGER PRIMARY KEY AUTOINCREMENT,\n",
    "    ingredient_name TEXT,\n",
    "    cocktail_recipe_gen TEXT,\n",
    "    time_stamp TIMESTAMP,\n",
    "    user_id INTEGER,\n",
    "    FOREIGN KEY (user_id) REFERENCES user(id))\n",
    "\n",
    "    ''')\n",
    "conn.commit()"
   ]
  },
  {
   "cell_type": "markdown",
   "metadata": {},
   "source": [
    "c.execute('''CREATE TABLE IF NOT EXISTS user_ingredient(\n",
    "    id INTEGER PRIMARY KEY AUTOINCREMENT,\n",
    "    ingredient_id INTEGER,\n",
    "    user_id INTEGER,\n",
    "    FOREIGN KEY (ingredient_id) REFERENCES ingredient(id),\n",
    "    FOREIGN KEY (user_id) REFERENCES user(id))\n",
    "    ''')\n",
    "conn.commit()"
   ]
  },
  {
   "cell_type": "code",
   "execution_count": 229,
   "metadata": {},
   "outputs": [],
   "source": [
    "c.execute('''CREATE TABLE IF NOT EXISTS cocktails(\n",
    "    cocktail_id INTEGER PRIMARY KEY,\n",
    "    cocktail_name TEXT,\n",
    "    cocktail_recipe_gen TEXT,\n",
    "    time_stamp DATETIME DEFAULT CURRENT_TIMESTAMP,\n",
    "    user_id INTEGER,\n",
    "    FOREIGN KEY (user_id) REFERENCES user(id))\n",
    "    ''')\n",
    "conn.commit()\n",
    "\n",
    "#time_stamp BLOB"
   ]
  }
 ],
 "metadata": {
  "kernelspec": {
   "display_name": "Python 3.9.15 ('fina_project')",
   "language": "python",
   "name": "python3"
  },
  "language_info": {
   "codemirror_mode": {
    "name": "ipython",
    "version": 3
   },
   "file_extension": ".py",
   "mimetype": "text/x-python",
   "name": "python",
   "nbconvert_exporter": "python",
   "pygments_lexer": "ipython3",
   "version": "3.9.15"
  },
  "orig_nbformat": 4,
  "vscode": {
   "interpreter": {
    "hash": "f7823bdbaac91b08cda05a19553fcfbd825fb80c28b08482a466b9cdd6b4e73c"
   }
  }
 },
 "nbformat": 4,
 "nbformat_minor": 2
}
